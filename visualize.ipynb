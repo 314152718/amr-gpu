{
 "cells": [
  {
   "cell_type": "code",
   "execution_count": 1,
   "metadata": {},
   "outputs": [],
   "source": [
    "#move to Jupyter adroit machine\n",
    "\n",
    "import numpy as np \n",
    "import matplotlib.pyplot as plt\n",
    "from scipy.interpolate import griddata\n",
    "from types import SimpleNamespace\n",
    "from copy import deepcopy"
   ]
  },
  {
   "cell_type": "code",
   "execution_count": 2,
   "metadata": {},
   "outputs": [],
   "source": [
    "with open('grid-host.csv', 'r') as f:\n",
    "    lines = f.readlines()\n",
    "    key_list = [key.strip('\\n') for key in lines[0].split(',')]\n",
    "    grid = {key: [] for key in key_list}\n",
    "    for line in lines[1:]:\n",
    "        line_split = line.split(\",\")\n",
    "        for i, datum in enumerate(line_split):\n",
    "            grid[key_list[i]].append(float(datum))\n",
    "\n",
    "grid = {key: np.array(value) for (key, value) in grid.items()}\n",
    "grid = SimpleNamespace(**grid)\n",
    "grid.dx = 1 / 2**grid.L\n",
    "grid.x = grid.i * grid.dx + grid.dx / 2\n",
    "grid.y = grid.j * grid.dx + grid.dx / 2\n",
    "grid.z = grid.k * grid.dx + grid.dx / 2\n",
    "grid.r = np.sqrt((grid.x - 0.5)**2 + (grid.y - 0.5)**2 + (grid.z - 0.5)**2)\n"
   ]
  },
  {
   "cell_type": "code",
   "execution_count": 3,
   "metadata": {},
   "outputs": [
    {
     "data": {
      "text/plain": [
       "1.0"
      ]
     },
     "execution_count": 3,
     "metadata": {},
     "output_type": "execute_result"
    }
   ],
   "source": [
    "# check that leaf cells sum to unity\n",
    "np.sum(grid.dx[grid.flag_leaf == 1]**3)\n"
   ]
  },
  {
   "cell_type": "code",
   "execution_count": 4,
   "metadata": {},
   "outputs": [
    {
     "data": {
      "image/png": "[encoded data removed]",
      "text/plain": [
       "<Figure size 432x288 with 1 Axes>"
      ]
     },
     "metadata": {
      "needs_background": "light"
     },
     "output_type": "display_data"
    }
   ],
   "source": [
    "sigma = 0.001 #same as in .h file\n",
    "def rho_func(x, y, z, x0=0.5, y0=0.5, z0=0.5, sigma=sigma):\n",
    "    rsq = (x - x0)**2 + (y - y0)**2 + (z - z0)**2\n",
    "    return np.exp(-rsq / (2 * sigma)) / np.sqrt(2 * np.pi * sigma**3)\n",
    "\n",
    "def plot_rho_grad_slice(z, L=[0, 1, 2], num=50, ax=plt.gca()):\n",
    "    coord_min = grid.z - 1 / 2**(grid.L + 1)\n",
    "    coord_max = grid.z + 1 / 2**(grid.L + 1)\n",
    "    cond = (z >= coord_min) & (z <= coord_max)\n",
    "    cond &= np.array(list(map(lambda x: x in L, grid.L)))\n",
    "    #print(cond)\n",
    "    x_grid, y_grid = np.meshgrid(np.linspace(0, 1, num), np.linspace(0, 1, num), indexing='ij')\n",
    "    rho_grad_x_grid = griddata((grid.x[cond], grid.y[cond]), grid.rho_grad_x[cond], (x_grid, y_grid), fill_value=0)\n",
    "    im = ax.contourf(x_grid, y_grid, rho_grad_x_grid, levels=200, vmin=min(grid.rho_grad), vmax=max(grid.rho_grad))\n",
    "    return im, rho_grad_x_grid\n",
    "\n",
    "def plot_rho_slice(z, L=[0, 1, 2], num=50):\n",
    "    coord_min = grid.z - 1 / 2**(grid.L + 1)\n",
    "    coord_max = grid.z + 1 / 2**(grid.L + 1)\n",
    "    cond = (z >= coord_min) & (z <= coord_max)\n",
    "    cond &= np.array(list(map(lambda x: x in L, grid.L)))\n",
    "    x_grid, y_grid = np.meshgrid(np.linspace(0, 1, num), np.linspace(0, 1, num), indexing='ij')\n",
    "    rho_grid = griddata((grid.x[cond], grid.y[cond]), grid.rho[cond], (x_grid, y_grid), fill_value=0)\n",
    "    im = plt.contourf(x_grid, y_grid, rho_grid, levels=200, vmin=min(grid.rho), vmax=max(grid.rho))\n",
    "    return im\n",
    "\n",
    "def plot_grid_slice(z, color='black', L=[0, 1, 2]):\n",
    "    coord_min = [coord - 1 / 2**(grid.L + 1) for coord in [grid.x, grid.y, grid.z]]\n",
    "    coord_max = [coord + 1 / 2**(grid.L + 1) for coord in [grid.x, grid.y, grid.z]]\n",
    "    cond = (z >= coord_min[2]) & (z <= coord_max[2])\n",
    "    #print(cond)\n",
    "    cond &= np.array(list(map(lambda x: x in L, grid.L)))\n",
    "    #print(cond)\n",
    "    plt.plot(np.array([coord_min[0][cond], coord_min[0][cond], coord_max[0][cond], coord_max[0][cond], coord_min[0][cond]]), \\\n",
    "             np.array([coord_min[1][cond], coord_max[1][cond], coord_max[1][cond], coord_min[1][cond], coord_min[1][cond]]), \\\n",
    "                color=color, lw=0.5)"
   ]
  },
  {
   "cell_type": "code",
   "execution_count": 5,
   "metadata": {},
   "outputs": [],
   "source": [
    "try:\n",
    "    plt_default_size\n",
    "except:\n",
    "    plt_default_size = plt.rcParams[\"figure.figsize\"]\n",
    "    \n",
    "plt.rcParams[\"figure.figsize\"] = plt_default_size\n",
    "plt.show()\n",
    "plt.close()"
   ]
  },
  {
   "cell_type": "code",
   "execution_count": 6,
   "metadata": {},
   "outputs": [
    {
     "name": "stdout",
     "output_type": "stream",
     "text": [
      "[6.0, 4.0]\n"
     ]
    },
    {
     "data": {
      "image/png": "[encoded data removed]",
      "text/plain": [
       "<Figure size 432x288 with 2 Axes>"
      ]
     },
     "metadata": {
      "needs_background": "light"
     },
     "output_type": "display_data"
    }
   ],
   "source": [
    "print(plt_default_size)\n",
    "z = 0.5\n",
    "im = plot_rho_slice(z)\n",
    "plot_grid_slice(z, color='grey')\n",
    "\n",
    "plt.rcParams[\"figure.figsize\"] = [1.8 * i for i in deepcopy(plt_default_size)]\n",
    "plt.gca().set_aspect(1.)\n",
    "plt.xlabel(r'$x$')\n",
    "plt.ylabel(r'$y$')\n",
    "plt.title(r'$z = %.3g$' % z)\n",
    "plt.colorbar()\n",
    "plt.show()\n",
    "plt.close()"
   ]
  },
  {
   "cell_type": "code",
   "execution_count": 7,
   "metadata": {},
   "outputs": [
    {
     "data": {
      "text/plain": [
       "array([ True,  True,  True,  True,  True,  True,  True,  True])"
      ]
     },
     "execution_count": 7,
     "metadata": {},
     "output_type": "execute_result"
    }
   ],
   "source": [
    "grid.z[grid.L==1]\n",
    "coord_min = grid.z - 1 / 2**(grid.L + 1)\n",
    "coord_max = grid.z + 1 / 2**(grid.L + 1)\n",
    "cond = (z >= coord_min[grid.L==1]) & (z <= coord_max[grid.L==1])\n",
    "cond"
   ]
  },
  {
   "cell_type": "code",
   "execution_count": 8,
   "metadata": {},
   "outputs": [
    {
     "data": {
      "text/plain": [
       "array([2., 2., 2., 2., 2., 2., 2., 2., 2., 2., 2., 2., 2., 2., 2., 2., 2.,\n",
       "       2., 2., 2., 2., 2., 2., 2., 2., 2., 2., 2., 2., 2., 2., 2., 2., 2.,\n",
       "       2., 2., 2., 2., 2., 1., 2., 2., 2., 1., 2., 1., 2., 2., 2., 0., 2.,\n",
       "       1., 2., 2., 2., 2., 1., 2., 2., 1., 2., 2., 2., 1., 2., 2., 2., 2.,\n",
       "       2., 2., 1., 2., 2.])"
      ]
     },
     "execution_count": 8,
     "metadata": {},
     "output_type": "execute_result"
    }
   ],
   "source": [
    "grid.L"
   ]
  },
  {
   "cell_type": "code",
   "execution_count": 9,
   "metadata": {},
   "outputs": [
    {
     "data": {
      "image/png": "[encoded data removed]",
      "text/plain": [
       "<Figure size 777.6x518.4 with 2 Axes>"
      ]
     },
     "metadata": {
      "needs_background": "light"
     },
     "output_type": "display_data"
    }
   ],
   "source": [
    "z = 0.5\n",
    "L = [1]\n",
    "im = plot_rho_slice(z, L)\n",
    "plot_grid_slice(z, color='grey', L=L)\n",
    "\n",
    "plt.gca().set_aspect(1.)\n",
    "plt.xlabel(r'$x$')\n",
    "plt.ylabel(r'$y$')\n",
    "plt.title(f'z = {z}, L = {L}')\n",
    "plt.colorbar()\n",
    "plt.show()\n",
    "plt.close()"
   ]
  },
  {
   "cell_type": "code",
   "execution_count": 10,
   "metadata": {},
   "outputs": [
    {
     "data": {
      "image/png": "[encoded data removed]",
      "text/plain": [
       "<Figure size 777.6x518.4 with 2 Axes>"
      ]
     },
     "metadata": {
      "needs_background": "light"
     },
     "output_type": "display_data"
    },
    {
     "ename": "",
     "evalue": "",
     "output_type": "error",
     "traceback": [
      "\u001b[1;31mThe Kernel crashed while executing code in the current cell or a previous cell. \n",
      "\u001b[1;31mPlease review the code in the cell(s) to identify a possible cause of the failure. \n",
      "\u001b[1;31mClick <a href='https://aka.ms/vscodeJupyterKernelCrash'>here</a> for more info. \n",
      "\u001b[1;31mView Jupyter <a href='command:jupyter.viewOutput'>log</a> for further details."
     ]
    }
   ],
   "source": [
    "L = [2]\n",
    "im = plot_rho_slice(z, L)\n",
    "plot_grid_slice(z, color='grey', L=L)\n",
    "\n",
    "plt.gca().set_aspect(1.)\n",
    "plt.xlabel(r'$x$')\n",
    "plt.ylabel(r'$y$')\n",
    "plt.title(f'z = {z}, L = {L}')\n",
    "plt.colorbar()\n",
    "plt.show()\n",
    "plt.close()"
   ]
  },
  {
   "cell_type": "code",
   "execution_count": 1,
   "metadata": {},
   "outputs": [
    {
     "ename": "",
     "evalue": "",
     "output_type": "error",
     "traceback": [
      "\u001b[1;31mThe Kernel crashed while executing code in the current cell or a previous cell. \n",
      "\u001b[1;31mPlease review the code in the cell(s) to identify a possible cause of the failure. \n",
      "\u001b[1;31mClick <a href='https://aka.ms/vscodeJupyterKernelCrash'>here</a> for more info. \n",
      "\u001b[1;31mView Jupyter <a href='command:jupyter.viewOutput'>log</a> for further details."
     ]
    }
   ],
   "source": [
    "#data check\n",
    "with open('run_2024-03-18_14h34.log', 'r') as file:\n",
    "    data = file.read()\n",
    "data = data.split('\\n')\n",
    "\n",
    "host_data, gpu_data = set(), set()\n",
    "for i in range(len(data)):\n",
    "    if data[i].startswith('HOST ['):\n",
    "        host_data.add(data[i][5:])\n",
    "    if data[i].startswith('GPU ['):\n",
    "        gpu_data.add(data[i][4:])\n",
    "assert host_data == gpu_data\n",
    "\n"
   ]
  }
 ],
 "metadata": {
  "kernelspec": {
   "display_name": "base",
   "language": "python",
   "name": "python3"
  },
  "language_info": {
   "codemirror_mode": {
    "name": "ipython",
    "version": 3
   },
   "file_extension": ".py",
   "mimetype": "text/x-python",
   "name": "python",
   "nbconvert_exporter": "python",
   "pygments_lexer": "ipython3",
   "version": "3.6.8"
  }
 },
 "nbformat": 4,
 "nbformat_minor": 2
}
