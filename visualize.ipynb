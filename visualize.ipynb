{
 "cells": [
  {
   "cell_type": "code",
   "execution_count": 26,
   "metadata": {},
   "outputs": [],
   "source": [
    "import numpy as np \n",
    "import matplotlib.pyplot as plt\n",
    "from types import SimpleNamespace"
   ]
  },
  {
   "cell_type": "code",
   "execution_count": 42,
   "metadata": {},
   "outputs": [],
   "source": [
    "with open('grid.csv', 'r') as f:\n",
    "    lines = f.readlines()\n",
    "    key_list = [key.strip('\\n') for key in lines[0].split(',')]\n",
    "    grid = {key: [] for key in key_list}\n",
    "    for line in lines[1:]:\n",
    "        line_split = line.split(\",\")\n",
    "        for i, datum in enumerate(line_split):\n",
    "            grid[key_list[i]].append(float(datum))\n",
    "\n",
    "grid = {key: np.array(value) for (key, value) in grid.items()}\n",
    "grid = SimpleNamespace(**grid)\n",
    "grid.dx = 1 / 2**grid.L\n",
    "grid.x = grid.i * grid.dx + grid.dx / 2\n",
    "grid.y = grid.j * grid.dx + grid.dx / 2\n",
    "grid.z = grid.k * grid.dx + grid.dx / 2\n"
   ]
  },
  {
   "cell_type": "code",
   "execution_count": null,
   "metadata": {},
   "outputs": [],
   "source": []
  },
  {
   "cell_type": "code",
   "execution_count": null,
   "metadata": {},
   "outputs": [],
   "source": []
  }
 ],
 "metadata": {
  "kernelspec": {
   "display_name": "base",
   "language": "python",
   "name": "python3"
  },
  "language_info": {
   "codemirror_mode": {
    "name": "ipython",
    "version": 3
   },
   "file_extension": ".py",
   "mimetype": "text/x-python",
   "name": "python",
   "nbconvert_exporter": "python",
   "pygments_lexer": "ipython3",
   "version": "3.11.4"
  }
 },
 "nbformat": 4,
 "nbformat_minor": 2
}
