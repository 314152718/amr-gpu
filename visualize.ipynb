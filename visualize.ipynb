{
 "cells": [
  {
   "cell_type": "code",
   "execution_count": 2,
   "metadata": {},
   "outputs": [],
   "source": [
    "import numpy as np \n",
    "import matplotlib.pyplot as plt\n",
    "from scipy.interpolate import griddata\n",
    "from types import SimpleNamespace\n",
    "from copy import deepcopy"
   ]
  },
  {
   "cell_type": "code",
   "execution_count": 3,
   "metadata": {},
   "outputs": [],
   "source": [
    "with open('grid-host.csv', 'r') as f:\n",
    "    lines = f.readlines()\n",
    "    key_list = [key.strip('\\n') for key in lines[0].split(',')]\n",
    "    grid = {key: [] for key in key_list}\n",
    "    for line in lines[1:]:\n",
    "        line_split = line.split(\",\")\n",
    "        for i, datum in enumerate(line_split):\n",
    "            grid[key_list[i]].append(float(datum))\n",
    "\n",
    "grid = {key: np.array(value) for (key, value) in grid.items()}\n",
    "grid = SimpleNamespace(**grid)\n",
    "grid.dx = 1 / 2**grid.L\n",
    "grid.x = grid.i * grid.dx + grid.dx / 2\n",
    "grid.y = grid.j * grid.dx + grid.dx / 2\n",
    "grid.z = grid.k * grid.dx + grid.dx / 2\n",
    "grid.r = np.sqrt((grid.x - 0.5)**2 + (grid.y - 0.5)**2 + (grid.z - 0.5)**2)\n"
   ]
  },
  {
   "cell_type": "code",
   "execution_count": 4,
   "metadata": {},
   "outputs": [
    {
     "data": {
      "text/plain": [
       "1.0"
      ]
     },
     "execution_count": 4,
     "metadata": {},
     "output_type": "execute_result"
    }
   ],
   "source": [
    "# check that leaf cells sum to unity\n",
    "np.sum(grid.dx[grid.flag_leaf == 1]**3)\n"
   ]
  },
  {
   "cell_type": "code",
   "execution_count": 5,
   "metadata": {},
   "outputs": [
    {
     "data": {
      "image/png": "[encoded data removed]",
      "text/plain": [
       "<Figure size 432x288 with 1 Axes>"
      ]
     },
     "metadata": {
      "needs_background": "light"
     },
     "output_type": "display_data"
    }
   ],
   "source": [
    "sigma = 0.001 #same as in .h file\n",
    "def rho_func(x, y, z, x0=0.5, y0=0.5, z0=0.5, sigma=sigma):\n",
    "    rsq = (x - x0)**2 + (y - y0)**2 + (z - z0)**2\n",
    "    return np.exp(-rsq / (2 * sigma)) / np.sqrt(2 * np.pi * sigma**3)\n",
    "\n",
    "def plot_rho_grad_slice(z, num=50, ax=plt.gca()):\n",
    "    coord_min = [coord - 1 / 2**(grid.L + 1) for coord in [grid.x, grid.y, grid.z]]\n",
    "    coord_max = [coord + 1 / 2**(grid.L + 1) for coord in [grid.x, grid.y, grid.z]]\n",
    "    cond = (z >= coord_min[2]) * (z <= coord_max[2])\n",
    "    x_grid, y_grid = np.meshgrid(np.linspace(0, 1, num), np.linspace(0, 1, num), indexing='ij')\n",
    "    rho_grad_x_grid = griddata((grid.x[cond], grid.y[cond]), grid.rho_grad_x[cond], (x_grid, y_grid), fill_value=0)\n",
    "    im = ax.contourf(x_grid, y_grid, rho_grad_x_grid, levels=200)\n",
    "    return im, rho_grad_x_grid\n",
    "\n",
    "def plot_rho_slice(z, num=50):\n",
    "    coord_min = [coord - 1 / 2**(grid.L + 1) for coord in [grid.x, grid.y, grid.z]]\n",
    "    coord_max = [coord + 1 / 2**(grid.L + 1) for coord in [grid.x, grid.y, grid.z]]\n",
    "    cond = (z >= coord_min[2]) * (z <= coord_max[2])\n",
    "    x_grid, y_grid = np.meshgrid(np.linspace(0, 1, num), np.linspace(0, 1, num), indexing='ij')\n",
    "    rho_grid = griddata((grid.x[cond], grid.y[cond]), grid.rho[cond], (x_grid, y_grid), fill_value=0)\n",
    "    im = plt.contourf(x_grid, y_grid, rho_grid, levels=200)\n",
    "    return im\n",
    "\n",
    "def plot_grid_slice(z, color='black'):\n",
    "    coord_min = [coord - 1 / 2**(grid.L + 1) for coord in [grid.x, grid.y, grid.z]]\n",
    "    coord_max = [coord + 1 / 2**(grid.L + 1) for coord in [grid.x, grid.y, grid.z]]\n",
    "    cond = (z >= coord_min[2]) * (z <= coord_max[2])\n",
    "    plt.plot(np.array([coord_min[0][cond], coord_min[0][cond], coord_max[0][cond], coord_max[0][cond], coord_min[0][cond]]), np.array([coord_min[1][cond], coord_max[1][cond], coord_max[1][cond], coord_min[1][cond], coord_min[1][cond]]), color=color, lw=0.5)"
   ]
  },
  {
   "cell_type": "code",
   "execution_count": 6,
   "metadata": {},
   "outputs": [],
   "source": [
    "plt_default_size = plt.rcParams[\"figure.figsize\"]"
   ]
  },
  {
   "cell_type": "code",
   "execution_count": 7,
   "metadata": {},
   "outputs": [
    {
     "data": {
      "text/plain": [
       "[6.0, 4.0]"
      ]
     },
     "execution_count": 7,
     "metadata": {},
     "output_type": "execute_result"
    }
   ],
   "source": [
    "plt_default_size"
   ]
  },
  {
   "cell_type": "code",
   "execution_count": 10,
   "metadata": {},
   "outputs": [
    {
     "data": {
      "image/png": "[encoded data removed]",
      "text/plain": [
       "<Figure size 777.6x518.4 with 1 Axes>"
      ]
     },
     "metadata": {
      "needs_background": "light"
     },
     "output_type": "display_data"
    },
    {
     "ename": "",
     "evalue": "",
     "output_type": "error",
     "traceback": [
      "\u001b[1;31mThe Kernel crashed while executing code in the current cell or a previous cell. \n",
      "\u001b[1;31mPlease review the code in the cell(s) to identify a possible cause of the failure. \n",
      "\u001b[1;31mClick <a href='https://aka.ms/vscodeJupyterKernelCrash'>here</a> for more info. \n",
      "\u001b[1;31mView Jupyter <a href='command:jupyter.viewOutput'>log</a> for further details."
     ]
    }
   ],
   "source": [
    "z = 0.5\n",
    "im = plot_rho_slice(z)\n",
    "plot_grid_slice(z, color='grey')\n",
    "\n",
    "plt.gca().set_aspect(1.)\n",
    "plt.rcParams[\"figure.figsize\"] = [1.8 * i for i in deepcopy(plt_default_size)]\n",
    "plt.xlabel(r'$x$')\n",
    "plt.ylabel(r'$y$')\n",
    "plt.title(r'$z = %.3g$' % z)\n",
    "plt.show()\n",
    "plt.close()"
   ]
  }
 ],
 "metadata": {
  "kernelspec": {
   "display_name": "base",
   "language": "python",
   "name": "python3"
  },
  "language_info": {
   "codemirror_mode": {
    "name": "ipython",
    "version": 3
   },
   "file_extension": ".py",
   "mimetype": "text/x-python",
   "name": "python",
   "nbconvert_exporter": "python",
   "pygments_lexer": "ipython3",
   "version": "3.6.8"
  }
 },
 "nbformat": 4,
 "nbformat_minor": 2
}
